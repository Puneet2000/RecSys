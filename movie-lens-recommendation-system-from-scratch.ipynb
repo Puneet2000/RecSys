{
 "cells": [
  {
   "cell_type": "markdown",
   "metadata": {},
   "source": [
    "## Problem Statement\n",
    "***\n",
    "We have a movie lens database and our objective is to apply various kinds of recommendation techniques from scratch and find out similarities between the users, most popular movies, and personalized recommendations for the targeted user based on user based collaborative filtering."
   ]
  },
  {
   "cell_type": "code",
   "execution_count": 20,
   "metadata": {},
   "outputs": [],
   "source": [
    "# Importing the required libraries.\n",
    "import pandas as pd\n",
    "import numpy as np\n",
    "from math import pow, sqrt"
   ]
  },
  {
   "cell_type": "markdown",
   "metadata": {},
   "source": [
    "## Loading users, movie and ratings"
   ]
  },
  {
   "cell_type": "code",
   "execution_count": 21,
   "metadata": {},
   "outputs": [
    {
     "data": {
      "text/html": [
       "<div>\n",
       "<style scoped>\n",
       "    .dataframe tbody tr th:only-of-type {\n",
       "        vertical-align: middle;\n",
       "    }\n",
       "\n",
       "    .dataframe tbody tr th {\n",
       "        vertical-align: top;\n",
       "    }\n",
       "\n",
       "    .dataframe thead th {\n",
       "        text-align: right;\n",
       "    }\n",
       "</style>\n",
       "<table border=\"1\" class=\"dataframe\">\n",
       "  <thead>\n",
       "    <tr style=\"text-align: right;\">\n",
       "      <th></th>\n",
       "      <th>user_id</th>\n",
       "      <th>age</th>\n",
       "      <th>sex</th>\n",
       "      <th>occupation</th>\n",
       "      <th>zip_code</th>\n",
       "    </tr>\n",
       "  </thead>\n",
       "  <tbody>\n",
       "    <tr>\n",
       "      <th>0</th>\n",
       "      <td>1</td>\n",
       "      <td>F</td>\n",
       "      <td>1</td>\n",
       "      <td>10</td>\n",
       "      <td>48067</td>\n",
       "    </tr>\n",
       "    <tr>\n",
       "      <th>1</th>\n",
       "      <td>2</td>\n",
       "      <td>M</td>\n",
       "      <td>56</td>\n",
       "      <td>16</td>\n",
       "      <td>70072</td>\n",
       "    </tr>\n",
       "    <tr>\n",
       "      <th>2</th>\n",
       "      <td>3</td>\n",
       "      <td>M</td>\n",
       "      <td>25</td>\n",
       "      <td>15</td>\n",
       "      <td>55117</td>\n",
       "    </tr>\n",
       "    <tr>\n",
       "      <th>3</th>\n",
       "      <td>4</td>\n",
       "      <td>M</td>\n",
       "      <td>45</td>\n",
       "      <td>7</td>\n",
       "      <td>02460</td>\n",
       "    </tr>\n",
       "    <tr>\n",
       "      <th>4</th>\n",
       "      <td>5</td>\n",
       "      <td>M</td>\n",
       "      <td>25</td>\n",
       "      <td>20</td>\n",
       "      <td>55455</td>\n",
       "    </tr>\n",
       "    <tr>\n",
       "      <th>...</th>\n",
       "      <td>...</td>\n",
       "      <td>...</td>\n",
       "      <td>...</td>\n",
       "      <td>...</td>\n",
       "      <td>...</td>\n",
       "    </tr>\n",
       "    <tr>\n",
       "      <th>6035</th>\n",
       "      <td>6036</td>\n",
       "      <td>F</td>\n",
       "      <td>25</td>\n",
       "      <td>15</td>\n",
       "      <td>32603</td>\n",
       "    </tr>\n",
       "    <tr>\n",
       "      <th>6036</th>\n",
       "      <td>6037</td>\n",
       "      <td>F</td>\n",
       "      <td>45</td>\n",
       "      <td>1</td>\n",
       "      <td>76006</td>\n",
       "    </tr>\n",
       "    <tr>\n",
       "      <th>6037</th>\n",
       "      <td>6038</td>\n",
       "      <td>F</td>\n",
       "      <td>56</td>\n",
       "      <td>1</td>\n",
       "      <td>14706</td>\n",
       "    </tr>\n",
       "    <tr>\n",
       "      <th>6038</th>\n",
       "      <td>6039</td>\n",
       "      <td>F</td>\n",
       "      <td>45</td>\n",
       "      <td>0</td>\n",
       "      <td>01060</td>\n",
       "    </tr>\n",
       "    <tr>\n",
       "      <th>6039</th>\n",
       "      <td>6040</td>\n",
       "      <td>M</td>\n",
       "      <td>25</td>\n",
       "      <td>6</td>\n",
       "      <td>11106</td>\n",
       "    </tr>\n",
       "  </tbody>\n",
       "</table>\n",
       "<p>6040 rows × 5 columns</p>\n",
       "</div>"
      ],
      "text/plain": [
       "      user_id age  sex  occupation zip_code\n",
       "0           1   F    1          10    48067\n",
       "1           2   M   56          16    70072\n",
       "2           3   M   25          15    55117\n",
       "3           4   M   45           7    02460\n",
       "4           5   M   25          20    55455\n",
       "...       ...  ..  ...         ...      ...\n",
       "6035     6036   F   25          15    32603\n",
       "6036     6037   F   45           1    76006\n",
       "6037     6038   F   56           1    14706\n",
       "6038     6039   F   45           0    01060\n",
       "6039     6040   M   25           6    11106\n",
       "\n",
       "[6040 rows x 5 columns]"
      ]
     },
     "execution_count": 21,
     "metadata": {},
     "output_type": "execute_result"
    }
   ],
   "source": [
    "# Reading users dataset into a pandas dataframe object.\n",
    "users = pd.read_csv('data/users.dat', sep='::', names=['user_id', 'age', 'sex', 'occupation', 'zip_code'], \n",
    "                    encoding='latin-1', engine='python')\n",
    "users"
   ]
  },
  {
   "cell_type": "code",
   "execution_count": 3,
   "metadata": {},
   "outputs": [
    {
     "data": {
      "text/html": [
       "<div>\n",
       "<style scoped>\n",
       "    .dataframe tbody tr th:only-of-type {\n",
       "        vertical-align: middle;\n",
       "    }\n",
       "\n",
       "    .dataframe tbody tr th {\n",
       "        vertical-align: top;\n",
       "    }\n",
       "\n",
       "    .dataframe thead th {\n",
       "        text-align: right;\n",
       "    }\n",
       "</style>\n",
       "<table border=\"1\" class=\"dataframe\">\n",
       "  <thead>\n",
       "    <tr style=\"text-align: right;\">\n",
       "      <th></th>\n",
       "      <th>user_id</th>\n",
       "      <th>movie_id</th>\n",
       "      <th>rating</th>\n",
       "      <th>unix_timestamp</th>\n",
       "    </tr>\n",
       "  </thead>\n",
       "  <tbody>\n",
       "    <tr>\n",
       "      <th>0</th>\n",
       "      <td>1</td>\n",
       "      <td>1193</td>\n",
       "      <td>5</td>\n",
       "      <td>978300760</td>\n",
       "    </tr>\n",
       "    <tr>\n",
       "      <th>1</th>\n",
       "      <td>1</td>\n",
       "      <td>661</td>\n",
       "      <td>3</td>\n",
       "      <td>978302109</td>\n",
       "    </tr>\n",
       "    <tr>\n",
       "      <th>2</th>\n",
       "      <td>1</td>\n",
       "      <td>914</td>\n",
       "      <td>3</td>\n",
       "      <td>978301968</td>\n",
       "    </tr>\n",
       "    <tr>\n",
       "      <th>3</th>\n",
       "      <td>1</td>\n",
       "      <td>3408</td>\n",
       "      <td>4</td>\n",
       "      <td>978300275</td>\n",
       "    </tr>\n",
       "    <tr>\n",
       "      <th>4</th>\n",
       "      <td>1</td>\n",
       "      <td>2355</td>\n",
       "      <td>5</td>\n",
       "      <td>978824291</td>\n",
       "    </tr>\n",
       "    <tr>\n",
       "      <th>...</th>\n",
       "      <td>...</td>\n",
       "      <td>...</td>\n",
       "      <td>...</td>\n",
       "      <td>...</td>\n",
       "    </tr>\n",
       "    <tr>\n",
       "      <th>1000204</th>\n",
       "      <td>6040</td>\n",
       "      <td>1091</td>\n",
       "      <td>1</td>\n",
       "      <td>956716541</td>\n",
       "    </tr>\n",
       "    <tr>\n",
       "      <th>1000205</th>\n",
       "      <td>6040</td>\n",
       "      <td>1094</td>\n",
       "      <td>5</td>\n",
       "      <td>956704887</td>\n",
       "    </tr>\n",
       "    <tr>\n",
       "      <th>1000206</th>\n",
       "      <td>6040</td>\n",
       "      <td>562</td>\n",
       "      <td>5</td>\n",
       "      <td>956704746</td>\n",
       "    </tr>\n",
       "    <tr>\n",
       "      <th>1000207</th>\n",
       "      <td>6040</td>\n",
       "      <td>1096</td>\n",
       "      <td>4</td>\n",
       "      <td>956715648</td>\n",
       "    </tr>\n",
       "    <tr>\n",
       "      <th>1000208</th>\n",
       "      <td>6040</td>\n",
       "      <td>1097</td>\n",
       "      <td>4</td>\n",
       "      <td>956715569</td>\n",
       "    </tr>\n",
       "  </tbody>\n",
       "</table>\n",
       "<p>1000209 rows × 4 columns</p>\n",
       "</div>"
      ],
      "text/plain": [
       "         user_id  movie_id  rating  unix_timestamp\n",
       "0              1      1193       5       978300760\n",
       "1              1       661       3       978302109\n",
       "2              1       914       3       978301968\n",
       "3              1      3408       4       978300275\n",
       "4              1      2355       5       978824291\n",
       "...          ...       ...     ...             ...\n",
       "1000204     6040      1091       1       956716541\n",
       "1000205     6040      1094       5       956704887\n",
       "1000206     6040       562       5       956704746\n",
       "1000207     6040      1096       4       956715648\n",
       "1000208     6040      1097       4       956715569\n",
       "\n",
       "[1000209 rows x 4 columns]"
      ]
     },
     "execution_count": 3,
     "metadata": {},
     "output_type": "execute_result"
    }
   ],
   "source": [
    "# Reading ratings dataset into a pandas dataframe object.\n",
    "ratings = pd.read_csv('data/ratings.dat', sep='::', names=['user_id', 'movie_id', 'rating', 'unix_timestamp'],\n",
    "                      encoding='latin-1', engine='python')\n",
    "ratings"
   ]
  },
  {
   "cell_type": "code",
   "execution_count": 22,
   "metadata": {},
   "outputs": [
    {
     "data": {
      "text/html": [
       "<div>\n",
       "<style scoped>\n",
       "    .dataframe tbody tr th:only-of-type {\n",
       "        vertical-align: middle;\n",
       "    }\n",
       "\n",
       "    .dataframe tbody tr th {\n",
       "        vertical-align: top;\n",
       "    }\n",
       "\n",
       "    .dataframe thead th {\n",
       "        text-align: right;\n",
       "    }\n",
       "</style>\n",
       "<table border=\"1\" class=\"dataframe\">\n",
       "  <thead>\n",
       "    <tr style=\"text-align: right;\">\n",
       "      <th></th>\n",
       "      <th>movie_id</th>\n",
       "      <th>movie_title</th>\n",
       "      <th>genre</th>\n",
       "    </tr>\n",
       "  </thead>\n",
       "  <tbody>\n",
       "    <tr>\n",
       "      <th>0</th>\n",
       "      <td>1</td>\n",
       "      <td>Toy Story (1995)</td>\n",
       "      <td>Animation|Children's|Comedy</td>\n",
       "    </tr>\n",
       "    <tr>\n",
       "      <th>1</th>\n",
       "      <td>2</td>\n",
       "      <td>Jumanji (1995)</td>\n",
       "      <td>Adventure|Children's|Fantasy</td>\n",
       "    </tr>\n",
       "    <tr>\n",
       "      <th>2</th>\n",
       "      <td>3</td>\n",
       "      <td>Grumpier Old Men (1995)</td>\n",
       "      <td>Comedy|Romance</td>\n",
       "    </tr>\n",
       "    <tr>\n",
       "      <th>3</th>\n",
       "      <td>4</td>\n",
       "      <td>Waiting to Exhale (1995)</td>\n",
       "      <td>Comedy|Drama</td>\n",
       "    </tr>\n",
       "    <tr>\n",
       "      <th>4</th>\n",
       "      <td>5</td>\n",
       "      <td>Father of the Bride Part II (1995)</td>\n",
       "      <td>Comedy</td>\n",
       "    </tr>\n",
       "    <tr>\n",
       "      <th>...</th>\n",
       "      <td>...</td>\n",
       "      <td>...</td>\n",
       "      <td>...</td>\n",
       "    </tr>\n",
       "    <tr>\n",
       "      <th>3878</th>\n",
       "      <td>3948</td>\n",
       "      <td>Meet the Parents (2000)</td>\n",
       "      <td>Comedy</td>\n",
       "    </tr>\n",
       "    <tr>\n",
       "      <th>3879</th>\n",
       "      <td>3949</td>\n",
       "      <td>Requiem for a Dream (2000)</td>\n",
       "      <td>Drama</td>\n",
       "    </tr>\n",
       "    <tr>\n",
       "      <th>3880</th>\n",
       "      <td>3950</td>\n",
       "      <td>Tigerland (2000)</td>\n",
       "      <td>Drama</td>\n",
       "    </tr>\n",
       "    <tr>\n",
       "      <th>3881</th>\n",
       "      <td>3951</td>\n",
       "      <td>Two Family House (2000)</td>\n",
       "      <td>Drama</td>\n",
       "    </tr>\n",
       "    <tr>\n",
       "      <th>3882</th>\n",
       "      <td>3952</td>\n",
       "      <td>Contender, The (2000)</td>\n",
       "      <td>Drama|Thriller</td>\n",
       "    </tr>\n",
       "  </tbody>\n",
       "</table>\n",
       "<p>3883 rows × 3 columns</p>\n",
       "</div>"
      ],
      "text/plain": [
       "      movie_id                         movie_title  \\\n",
       "0            1                    Toy Story (1995)   \n",
       "1            2                      Jumanji (1995)   \n",
       "2            3             Grumpier Old Men (1995)   \n",
       "3            4            Waiting to Exhale (1995)   \n",
       "4            5  Father of the Bride Part II (1995)   \n",
       "...        ...                                 ...   \n",
       "3878      3948             Meet the Parents (2000)   \n",
       "3879      3949          Requiem for a Dream (2000)   \n",
       "3880      3950                    Tigerland (2000)   \n",
       "3881      3951             Two Family House (2000)   \n",
       "3882      3952               Contender, The (2000)   \n",
       "\n",
       "                             genre  \n",
       "0      Animation|Children's|Comedy  \n",
       "1     Adventure|Children's|Fantasy  \n",
       "2                   Comedy|Romance  \n",
       "3                     Comedy|Drama  \n",
       "4                           Comedy  \n",
       "...                            ...  \n",
       "3878                        Comedy  \n",
       "3879                         Drama  \n",
       "3880                         Drama  \n",
       "3881                         Drama  \n",
       "3882                Drama|Thriller  \n",
       "\n",
       "[3883 rows x 3 columns]"
      ]
     },
     "execution_count": 22,
     "metadata": {},
     "output_type": "execute_result"
    }
   ],
   "source": [
    "# Reading movies dataset into a pandas dataframe object.\n",
    "movies = pd.read_csv('data/movies.dat', sep='::', names=['movie_id', 'movie_title', 'genre'], \n",
    "                     encoding='latin-1', engine='python')\n",
    "movies"
   ]
  },
  {
   "cell_type": "markdown",
   "metadata": {},
   "source": [
    "### Writing generally used getter functions in the implementation\n",
    "Here, we have written down a few getters so that we do not need to write down them again adn again and it also increases readability and reusability of the code."
   ]
  },
  {
   "cell_type": "code",
   "execution_count": 24,
   "metadata": {},
   "outputs": [],
   "source": [
    "#Function to get the rating given by a user to a movie.\n",
    "def get_rating_(userid,movieid):\n",
    "    return (ratings.loc[(ratings.user_id==userid) & (ratings.movie_id == movieid),'rating'].iloc[0])\n",
    "\n",
    "#Function to get the rating given by a user to a movie.\n",
    "def get_rating_timestamp_(userid,movieid):\n",
    "    return (ratings.loc[(ratings.user_id==userid) & (ratings.movie_id == movieid),'unix_timestamp'].iloc[0])\n",
    "\n",
    "# Function to get the list of all movie ids the specified user has rated.\n",
    "def get_movieids_(userid):\n",
    "    return (ratings.loc[(ratings.user_id==userid),'movie_id'].tolist())\n",
    "\n",
    "# Function to get the movie titles against the movie id.\n",
    "def get_movie_title_(movieid):\n",
    "    return (movies.loc[(movies.movie_id == movieid),'movie_title'].iloc[0])\n",
    "\n",
    "# Function to get the movie genre against the movie id.\n",
    "def get_movie_genre_(movieid):\n",
    "    return (movies.loc[(movies.movie_id == movieid),'genre'].iloc[0])"
   ]
  },
  {
   "cell_type": "markdown",
   "metadata": {},
   "source": [
    "## Create user-item rating matrix\n",
    "Given $m$ movies, and $n$ users...\n",
    "\n",
    "Construct a rating matrix $R$ of size $m\\times n$\n",
    "\n",
    "$R[i,j]$ is rating given by $j^{th}$ user to $i^{th}$ movie\n",
    "\n",
    "Normalize the rating matrix to zero mean"
   ]
  },
  {
   "cell_type": "code",
   "execution_count": 26,
   "metadata": {},
   "outputs": [
    {
     "name": "stdout",
     "output_type": "stream",
     "text": [
      "[[5 0 0 ... 0 0 3]\n",
      " [0 0 0 ... 0 0 0]\n",
      " [0 0 0 ... 0 0 0]\n",
      " ...\n",
      " [0 0 0 ... 0 0 0]\n",
      " [0 0 0 ... 0 0 0]\n",
      " [0 0 0 ... 0 0 0]]\n",
      "[[ 3.57400662 -1.42599338 -1.42599338 ... -1.42599338 -1.42599338\n",
      "   1.57400662]\n",
      " [-0.37152318 -0.37152318 -0.37152318 ... -0.37152318 -0.37152318\n",
      "  -0.37152318]\n",
      " [-0.23874172 -0.23874172 -0.23874172 ... -0.23874172 -0.23874172\n",
      "  -0.23874172]\n",
      " ...\n",
      " [-0.03278146 -0.03278146 -0.03278146 ... -0.03278146 -0.03278146\n",
      "  -0.03278146]\n",
      " [-0.02582781 -0.02582781 -0.02582781 ... -0.02582781 -0.02582781\n",
      "  -0.02582781]\n",
      " [-0.24288079 -0.24288079 -0.24288079 ... -0.24288079 -0.24288079\n",
      "  -0.24288079]]\n"
     ]
    }
   ],
   "source": [
    "max_user_id = ratings.user_id.max()\n",
    "max_movie_id = ratings.movie_id.max()\n",
    "\n",
    "rating_matrix = np.ndarray(shape=(max_movie_id, max_user_id),dtype=np.uint8)\n",
    "rating_matrix[ratings.movie_id.values-1, ratings.user_id.values-1] = ratings.rating.values\n",
    "print(rating_matrix)\n",
    "normalised_matrix = rating_matrix - np.asarray([(np.mean(rating_matrix, 1))]).T\n",
    "print(normalised_matrix)"
   ]
  },
  {
   "cell_type": "markdown",
   "metadata": {},
   "source": [
    "## Perform SVD of user-item rating matrix\n",
    "\n",
    "Tranpose rating matrix $A = R^T$\n",
    "\n",
    "Perform SVD on rating matrix: $A  = U \\Sigma V^T$\n",
    "\n",
    "$U$ is user matrix of size $n \\times n$\n",
    "\n",
    "$V$ is movie item matrix of size $m \\times m$\n",
    "\n",
    "$\\Sigma$ consists of $min(m,n)$ singular values\n",
    "\n",
    "<img src=\"https://dorukkilitcioglu.com/assets/images/posts/representation-learning-2/svd.png\" width=\"250\" height=\"170\">"
   ]
  },
  {
   "cell_type": "code",
   "execution_count": 27,
   "metadata": {},
   "outputs": [
    {
     "name": "stdout",
     "output_type": "stream",
     "text": [
      "(3952, 3952)\n",
      "(3952,)\n",
      "(6040, 6040)\n"
     ]
    }
   ],
   "source": [
    "A = normalised_matrix.T / np.sqrt(rating_matrix.shape[0] - 1)\n",
    "user_matrix, singular_values, movie_matrix = np.linalg.svd(A)\n",
    "print(movie_matrix.shape)\n",
    "print(singular_values.shape)\n",
    "print(user_matrix.shape)"
   ]
  },
  {
   "cell_type": "code",
   "execution_count": 28,
   "metadata": {},
   "outputs": [
    {
     "name": "stdout",
     "output_type": "stream",
     "text": [
      "(3952, 50)\n",
      "(6040, 50)\n"
     ]
    }
   ],
   "source": [
    "num_features = 50  # take only 50 features \n",
    "movie_features = movie_matrix.T[:, :num_features]\n",
    "user_features = user_matrix[:, :num_features]\n",
    "print(movie_features.shape)\n",
    "print(user_features.shape)"
   ]
  },
  {
   "cell_type": "code",
   "execution_count": 29,
   "metadata": {},
   "outputs": [],
   "source": [
    "# identify top matches based on cosine similarity\n",
    "def top_cosine_similarity(data, query_vector, top_n=10):\n",
    "    dot_product = np.dot(query_vector, data.T) # dot product\n",
    "    norm_a = np.linalg.norm(query_vector)\n",
    "    norm_b = np.linalg.norm(data,axis=1)\n",
    "    similarity = dot_product / ((norm_a * norm_b) + 1e-6) # cosine similarity\n",
    "    sort_indexes = np.argsort(-similarity) # sort indices in drecreasing order of similarity\n",
    "    return sort_indexes[:top_n] +1 # return top N indices"
   ]
  },
  {
   "cell_type": "code",
   "execution_count": 30,
   "metadata": {},
   "outputs": [
    {
     "data": {
      "text/plain": [
       "array([   2, 3489,   60, 2162,  653, 1654, 2161,  317, 1583, 1848],\n",
       "      dtype=int64)"
      ]
     },
     "execution_count": 30,
     "metadata": {},
     "output_type": "execute_result"
    }
   ],
   "source": [
    "movie_id = 2\n",
    "query_vector = movie_features[movie_id - 1, :]\n",
    "top_cosine_similarity(movie_features, query_vector ,10) # find top 10 movies similar to movie id 2"
   ]
  },
  {
   "cell_type": "code",
   "execution_count": 32,
   "metadata": {},
   "outputs": [
    {
     "data": {
      "text/plain": [
       "array([  10, 1120, 3013, 2242, 3512, 4958, 3259,   44, 4048, 5447],\n",
       "      dtype=int64)"
      ]
     },
     "execution_count": 32,
     "metadata": {},
     "output_type": "execute_result"
    }
   ],
   "source": [
    "user_id = 10\n",
    "query_vector = user_features[user_id - 1, :]\n",
    "top_cosine_similarity(user_features, query_vector, 10) # find top 10 similar users for user id 1"
   ]
  },
  {
   "cell_type": "markdown",
   "metadata": {},
   "source": [
    "## Content-based Recommendations\n",
    "Given a user $u$\n",
    "\n",
    "1. Find $N$  movies $c_1,c_2,...,c_N$ recently watched and liked by user.\n",
    "\n",
    "2. Create a user profile as the average of feature vectors of movies: $u = \\frac{c_1 + c_2 + ... + c_N}{N}$\n",
    "\n",
    "3. Given profile vector $u$, recomend $K$ similar movie titles $r_1, r_2, ..., r_K$ \n",
    "    based on their similarity with user profile: $\\frac{\\langle u, r_i \\rangle}{\\Vert u \\Vert \\cdot \\Vert r_i \\Vert}$\n",
    "\n",
    "4. Remove movies previously watched by user  before recommending.\n",
    "\n",
    "<img src=\"https://cdn-gcp.new.marutitech.com/medium_964bd023_recommendation_engine_2_63a641ad68.png\" width=\"250\" height=\"170\">"
   ]
  },
  {
   "cell_type": "code",
   "execution_count": 33,
   "metadata": {},
   "outputs": [],
   "source": [
    "def get_content_based_recommendations(user_id, top_n_movies, num_recommendations):\n",
    "    movies_watched_by_user = get_movieids_(user_id)\n",
    "    movies_liked_by_user = [(movie_id, get_rating_timestamp_(user_id, movie_id)) \n",
    "                            for movie_id in movies_watched_by_user if get_rating_(user_id, movie_id) in [4,5]]\n",
    "\n",
    "    sorted(movies_liked_by_user, key= lambda x: -x[1])\n",
    "    recent_movies_liked_by_user = [movie_id for (movie_id, timestamp) in movies_liked_by_user]\n",
    "    \n",
    "    user_profile_vector = [movie_features[movie_id-1, :] for movie_id in recent_movies_liked_by_user]\n",
    "    user_profile_vector = np.mean(user_profile_vector, axis=0)\n",
    "\n",
    "    movie_recommendations_content = list(top_cosine_similarity(movie_features, user_profile_vector, num_recommendations))\n",
    "\n",
    "    movie_recommendations_content = set(movie_recommendations_content) - set(movies_watched_by_user)\n",
    "    \n",
    "    return recent_movies_liked_by_user, movie_recommendations_content"
   ]
  },
  {
   "cell_type": "code",
   "execution_count": 34,
   "metadata": {
    "scrolled": true
   },
   "outputs": [
    {
     "name": "stdout",
     "output_type": "stream",
     "text": [
      "10 Movies liked by user 20 recently\n",
      "\n",
      "Mission: Impossible (1996) Action|Adventure|Mystery\n",
      "Terminator 2: Judgment Day (1991) Action|Sci-Fi|Thriller\n",
      "Superman II (1980) Action|Adventure|Sci-Fi\n",
      "Out of Sight (1998) Action|Crime|Romance\n",
      "Matrix, The (1999) Action|Sci-Fi|Thriller\n",
      "Predator (1987) Action|Sci-Fi|Thriller\n",
      "There's Something About Mary (1998) Comedy\n",
      "Star Trek: The Motion Picture (1979) Action|Adventure|Sci-Fi\n",
      "Fifth Element, The (1997) Action|Sci-Fi\n",
      "Gladiator (2000) Action|Drama\n",
      "\n",
      "Movie recommendations similar to movies watched by user are:\n",
      "\n",
      "Last of the Mohicans, The (1992) Action|Romance|War\n",
      "Jurassic Park (1993) Action|Adventure|Sci-Fi\n",
      "Dream Man (1995) Thriller\n",
      "U-571 (2000) Action|Thriller\n",
      "Run Lola Run (Lola rennt) (1998) Action|Crime|Romance\n",
      "Face/Off (1997) Action|Sci-Fi|Thriller\n",
      "Heat (1995) Action|Crime|Thriller\n",
      "Total Recall (1990) Action|Adventure|Sci-Fi|Thriller\n",
      "Hunt for Red October, The (1990) Action|Thriller\n",
      "Men in Black (1997) Action|Adventure|Comedy|Sci-Fi\n",
      "X-Men (2000) Action|Sci-Fi\n",
      "Diebinnen (1995) Drama\n"
     ]
    }
   ],
   "source": [
    "user_id = 20\n",
    "\n",
    "# content-based parameters\n",
    "top_n_movies = 10\n",
    "num_recommendations = 25\n",
    "\n",
    "recent_movies_liked_by_user, movie_recommendations_content = get_content_based_recommendations(user_id, \n",
    "                                                                                               top_n_movies, \n",
    "                                                                                               num_recommendations)\n",
    "\n",
    "print(\"{} Movies liked by user {} recently\\n\".format(top_n_movies, user_id))\n",
    "for id in recent_movies_liked_by_user[:top_n_movies]:\n",
    "    print(get_movie_title_(id), get_movie_genre_(id))\n",
    "\n",
    "print(\"\\nMovie recommendations similar to movies watched by user are:\\n\")\n",
    "for id in list(movie_recommendations_content):\n",
    "    print(get_movie_title_(id), get_movie_genre_(id))"
   ]
  },
  {
   "cell_type": "markdown",
   "metadata": {},
   "source": [
    "## Collaborative Recommendations\n",
    "Given a user $u$\n",
    "\n",
    "1. Find $N$ users $u_1,u_2,...,u_N$ similar to given user based on cosine similarity.\n",
    "\n",
    "2. Create a user profile as the average of feature vectors of similar users: $u = \\frac{u_1 + u_2 + ... + u_N}{N}$\n",
    "\n",
    "3. Given profile vector $u$, recomend $K$ similar movie titles $r_1, r_2, ..., r_K$ \n",
    "    based on their similarity with user profile: $\\frac{\\langle u, r_i \\rangle}{\\Vert u \\Vert \\cdot \\Vert r_i \\Vert}$\n",
    "\n",
    "4. Remove movies previously watched by user  before recommending.\n",
    "\n",
    "<img src=\"https://cdn-gcp.new.marutitech.com/medium_f35bf62d_recommendation_engine_1_a609c2f06e.png\" width=\"250\" height=\"170\">"
   ]
  },
  {
   "cell_type": "code",
   "execution_count": 35,
   "metadata": {},
   "outputs": [],
   "source": [
    "def get_collaorative_recommendations(user_id, top_n_users, num_recommendations):\n",
    "    movies_watched_by_user = get_movieids_(user_id)\n",
    "    similar_user_ids = top_cosine_similarity(user_features, user_features[user_id-1, :], top_n_users)\n",
    "    \n",
    "    user_profile_vector = [user_features[uid - 1, :] for uid in similar_user_ids]\n",
    "    user_profile_vector = np.mean(user_profile_vector, axis=0)\n",
    "        \n",
    "    movie_recommendations_collaborative = list(top_cosine_similarity(movie_features, user_profile_vector, num_recommendations))\n",
    "\n",
    "    movie_recommendations_collaborative = set(movie_recommendations_collaborative) - set(movies_watched_by_user)\n",
    "\n",
    "    \n",
    "    return movie_recommendations_collaborative"
   ]
  },
  {
   "cell_type": "code",
   "execution_count": 36,
   "metadata": {},
   "outputs": [
    {
     "name": "stdout",
     "output_type": "stream",
     "text": [
      "\n",
      "Movies recommendations based on similar user interests are:\n",
      "\n",
      "Last of the Mohicans, The (1992) Action|Romance|War\n",
      "Hillbillys in a Haunted House (1967) Comedy\n",
      "Negotiator, The (1998) Action|Thriller\n",
      "Full Tilt Boogie (1997) Documentary\n",
      "Price of Glory (2000) Drama\n",
      "Face/Off (1997) Action|Sci-Fi|Thriller\n",
      "Sunchaser, The (1996) Drama\n",
      "Brighton Beach Memoirs (1986) Comedy\n",
      "Diebinnen (1995) Drama\n",
      "Uninvited Guest, An (2000) Drama\n",
      "Date with an Angel (1987) Comedy|Fantasy\n",
      "Mariachi, El (1992) Action|Thriller\n",
      "Bustin' Loose (1981) Comedy\n",
      "Hunt for Red October, The (1990) Action|Thriller\n",
      "Thelma & Louise (1991) Action|Drama\n",
      "In the Line of Fire (1993) Action|Thriller\n",
      "U-571 (2000) Action|Thriller\n",
      "Total Recall (1990) Action|Adventure|Sci-Fi|Thriller\n",
      "Under the Rainbow (1981) Comedy\n"
     ]
    }
   ],
   "source": [
    "user_id = 20\n",
    "\n",
    "# collborative-based parameters\n",
    "top_n_users = 15\n",
    "num_recommendations = 25\n",
    "\n",
    "movie_recommendations_collaborative = get_collaorative_recommendations(user_id, top_n_users, num_recommendations)\n",
    "\n",
    "print(\"\\nMovies recommendations based on similar user interests are:\\n\")\n",
    "for id in list(movie_recommendations_collaborative):\n",
    "    print(get_movie_title_(id), get_movie_genre_(id))\n"
   ]
  },
  {
   "cell_type": "code",
   "execution_count": 37,
   "metadata": {},
   "outputs": [
    {
     "data": {
      "text/plain": [
       "{826, 1408, 1573, 1610, 2916, 3555}"
      ]
     },
     "execution_count": 37,
     "metadata": {},
     "output_type": "execute_result"
    }
   ],
   "source": [
    "set(movie_recommendations_collaborative).intersection(movie_recommendations_content)"
   ]
  },
  {
   "cell_type": "code",
   "execution_count": null,
   "metadata": {},
   "outputs": [],
   "source": []
  }
 ],
 "metadata": {
  "kernelspec": {
   "display_name": "movie_reco",
   "language": "python",
   "name": "movie_reco"
  },
  "language_info": {
   "codemirror_mode": {
    "name": "ipython",
    "version": 3
   },
   "file_extension": ".py",
   "mimetype": "text/x-python",
   "name": "python",
   "nbconvert_exporter": "python",
   "pygments_lexer": "ipython3",
   "version": "3.8.16"
  }
 },
 "nbformat": 4,
 "nbformat_minor": 2
}
